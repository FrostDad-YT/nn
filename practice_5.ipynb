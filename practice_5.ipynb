{
 "cells": [
  {
   "cell_type": "markdown",
   "metadata": {},
   "source": [
    "# Численное вычисление производной"
   ]
  },
  {
   "cell_type": "code",
   "execution_count": 20,
   "metadata": {
    "collapsed": true
   },
   "outputs": [],
   "source": [
    "def F(x):\n",
    "    y = x**2\n",
    "    return y"
   ]
  },
  {
   "cell_type": "code",
   "execution_count": 39,
   "metadata": {
    "collapsed": true
   },
   "outputs": [],
   "source": [
    "def derivative(func, x1, dx=1e-10):\n",
    "    df = None\n",
    "    \n",
    "    x2 = x1 + dx\n",
    "    \n",
    "    f1 = func(x1)\n",
    "    f2 = func(x2)\n",
    "    \n",
    "    df = f2 - f1\n",
    "    \n",
    "    return df/dx"
   ]
  },
  {
   "cell_type": "code",
   "execution_count": 58,
   "metadata": {},
   "outputs": [
    {
     "name": "stdout",
     "output_type": "stream",
     "text": [
      "0.057646059830325225\n"
     ]
    }
   ],
   "source": [
    "lr = 0.1 # learning rate\n",
    "\n",
    "x_old = 5\n",
    "x_new = None\n",
    "\n",
    "points_x = []\n",
    "points_y = []\n",
    "\n",
    "points_x.append(x_old)\n",
    "points_y.append(F(x_old))\n",
    "\n",
    "for _ in range(20):\n",
    "    der = derivative(F, x_old)\n",
    "    x_new = x_old - lr * der\n",
    "    x_old = x_new\n",
    "    points_x.append(x_old)\n",
    "    points_y.append(F(x_old))\n",
    "    \n",
    "\n",
    "print(x_new)"
   ]
  },
  {
   "cell_type": "code",
   "execution_count": 59,
   "metadata": {
    "collapsed": true
   },
   "outputs": [],
   "source": [
    "import numpy as np \n",
    "import matplotlib.pyplot as plt"
   ]
  },
  {
   "cell_type": "code",
   "execution_count": 61,
   "metadata": {},
   "outputs": [
    {
     "data": {
      "image/png": "[encoded data removed]",
      "text/plain": [
       "<Figure size 432x288 with 1 Axes>"
      ]
     },
     "metadata": {},
     "output_type": "display_data"
    }
   ],
   "source": [
    "xp = np.linspace(-6, 6, 1000)\n",
    "plt.plot(xp, xp**2, color='blue', label='x**2')\n",
    "plt.grid()\n",
    "plt.scatter(points_x, points_y, color='red')\n",
    "plt.show()"
   ]
  },
  {
   "cell_type": "markdown",
   "metadata": {},
   "source": [
    "---"
   ]
  },
  {
   "cell_type": "markdown",
   "metadata": {},
   "source": [
    "# Объектно-ориентированное программирование (ООП)"
   ]
  },
  {
   "cell_type": "markdown",
   "metadata": {},
   "source": [
    "### Класс вектор"
   ]
  },
  {
   "cell_type": "code",
   "execution_count": 104,
   "metadata": {},
   "outputs": [],
   "source": [
    "class Vector():\n",
    "    \n",
    "    def __init__(self, arr):\n",
    "        self.arr = arr.copy()\n",
    "        \n",
    "        \n",
    "    def mbs(self, scalar):\n",
    "        res = []\n",
    "        \n",
    "        for i in self.arr:\n",
    "            res.append(i * scalar)\n",
    "        \n",
    "        return res\n",
    "    \n",
    "    \n",
    "    def mbv(self, vector):\n",
    "        summ = 0\n",
    "        \n",
    "        for i in range(len(vector)):\n",
    "            summ += self.arr[i] * vector[i]\n",
    "            \n",
    "        return summ\n"
   ]
  },
  {
   "cell_type": "code",
   "execution_count": 105,
   "metadata": {},
   "outputs": [],
   "source": [
    "v1 = Vector([ 9,6,-1])"
   ]
  },
  {
   "cell_type": "code",
   "execution_count": 106,
   "metadata": {},
   "outputs": [
    {
     "data": {
      "text/plain": [
       "7"
      ]
     },
     "execution_count": 106,
     "metadata": {},
     "output_type": "execute_result"
    }
   ],
   "source": [
    "v1.mbv([0,1,-1])"
   ]
  },
  {
   "cell_type": "markdown",
   "metadata": {},
   "source": [
    "### Класс \"учебный класс\""
   ]
  },
  {
   "cell_type": "code",
   "execution_count": 194,
   "metadata": {
    "collapsed": true
   },
   "outputs": [],
   "source": [
    "class Class():\n",
    "    def __init__(self, number, letter, students, subjects):\n",
    "        self.buff = []\n",
    "        self.number = number\n",
    "        self.letter = letter\n",
    "        self.students = students\n",
    "        self.subjects = subjects\n",
    "        \n",
    "        \n",
    "    def upgrade(self):\n",
    "        self.number += 1\n",
    "        \n",
    "    \n",
    "    def delete_by_index(self, index):\n",
    "        bad_student = self.students.pop(index)\n",
    "        self.buff.append(bad_student)\n",
    "        \n",
    "    \n",
    "    def delete_by_name(self, name):\n",
    "        self.students.remove(name)\n",
    "        self.buff.append(name)\n",
    "        \n",
    "        \n",
    "    def recover(self):\n",
    "        self.students = self.students + self.buff\n",
    "        self.buff = []"
   ]
  },
  {
   "cell_type": "code",
   "execution_count": 201,
   "metadata": {},
   "outputs": [],
   "source": [
    "classmates = ['Тимур Фатыхов', \n",
    "              'Шевелев Павел', \n",
    "              'Гуськов Ростислав']\n",
    "\n",
    "subjs = ['Математика', 'Русский', 'Физ-ра']\n",
    "\n",
    "my_class = Class(9, 'A', classmates, subjs)"
   ]
  },
  {
   "cell_type": "code",
   "execution_count": 202,
   "metadata": {},
   "outputs": [
    {
     "data": {
      "text/plain": [
       "['Тимур Фатыхов', 'Шевелев Павел', 'Гуськов Ростислав']"
      ]
     },
     "execution_count": 202,
     "metadata": {},
     "output_type": "execute_result"
    }
   ],
   "source": [
    "my_class.students"
   ]
  },
  {
   "cell_type": "markdown",
   "metadata": {},
   "source": [
    "---"
   ]
  },
  {
   "cell_type": "code",
   "execution_count": 203,
   "metadata": {},
   "outputs": [],
   "source": [
    "my_class.delete_by_name('Тимур Фатыхов')"
   ]
  },
  {
   "cell_type": "code",
   "execution_count": 204,
   "metadata": {},
   "outputs": [
    {
     "data": {
      "text/plain": [
       "['Шевелев Павел', 'Гуськов Ростислав']"
      ]
     },
     "execution_count": 204,
     "metadata": {},
     "output_type": "execute_result"
    }
   ],
   "source": [
    "my_class.students"
   ]
  },
  {
   "cell_type": "markdown",
   "metadata": {},
   "source": [
    "---"
   ]
  },
  {
   "cell_type": "code",
   "execution_count": 205,
   "metadata": {
    "collapsed": true
   },
   "outputs": [],
   "source": [
    "my_class.delete_by_name('Гуськов Ростислав')"
   ]
  },
  {
   "cell_type": "code",
   "execution_count": 206,
   "metadata": {},
   "outputs": [
    {
     "data": {
      "text/plain": [
       "['Шевелев Павел']"
      ]
     },
     "execution_count": 206,
     "metadata": {},
     "output_type": "execute_result"
    }
   ],
   "source": [
    "my_class.students"
   ]
  },
  {
   "cell_type": "markdown",
   "metadata": {},
   "source": [
    "---"
   ]
  },
  {
   "cell_type": "code",
   "execution_count": 207,
   "metadata": {},
   "outputs": [
    {
     "data": {
      "text/plain": [
       "['Тимур Фатыхов', 'Гуськов Ростислав']"
      ]
     },
     "execution_count": 207,
     "metadata": {},
     "output_type": "execute_result"
    }
   ],
   "source": [
    "my_class.buff"
   ]
  },
  {
   "cell_type": "markdown",
   "metadata": {},
   "source": [
    "---"
   ]
  },
  {
   "cell_type": "code",
   "execution_count": 208,
   "metadata": {},
   "outputs": [],
   "source": [
    "my_class.recover()"
   ]
  },
  {
   "cell_type": "code",
   "execution_count": 209,
   "metadata": {},
   "outputs": [
    {
     "data": {
      "text/plain": [
       "['Шевелев Павел', 'Тимур Фатыхов', 'Гуськов Ростислав']"
      ]
     },
     "execution_count": 209,
     "metadata": {},
     "output_type": "execute_result"
    }
   ],
   "source": [
    "my_class.students"
   ]
  },
  {
   "cell_type": "code",
   "execution_count": 210,
   "metadata": {},
   "outputs": [
    {
     "data": {
      "text/plain": [
       "[]"
      ]
     },
     "execution_count": 210,
     "metadata": {},
     "output_type": "execute_result"
    }
   ],
   "source": [
    "my_class.buff "
   ]
  },
  {
   "cell_type": "code",
   "execution_count": null,
   "metadata": {
    "collapsed": true
   },
   "outputs": [],
   "source": []
  }
 ],
 "metadata": {
  "kernelspec": {
   "display_name": "Python 3",
   "language": "python",
   "name": "python3"
  },
  "language_info": {
   "codemirror_mode": {
    "name": "ipython",
    "version": 3
   },
   "file_extension": ".py",
   "mimetype": "text/x-python",
   "name": "python",
   "nbconvert_exporter": "python",
   "pygments_lexer": "ipython3",
   "version": "3.6.3"
  },
  "latex_envs": {
   "LaTeX_envs_menu_present": true,
   "autocomplete": true,
   "bibliofile": "biblio.bib",
   "cite_by": "apalike",
   "current_citInitial": 1,
   "eqLabelWithNumbers": true,
   "eqNumInitial": 1,
   "hotkeys": {
    "equation": "Ctrl-E",
    "itemize": "Ctrl-I"
   },
   "labels_anchors": false,
   "latex_user_defs": false,
   "report_style_numbering": false,
   "user_envs_cfg": false
  }
 },
 "nbformat": 4,
 "nbformat_minor": 2
}
