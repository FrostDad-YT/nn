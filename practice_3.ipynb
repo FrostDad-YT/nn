{
 "cells": [
  {
   "cell_type": "markdown",
   "metadata": {},
   "source": [
    "## Основы линейной алгебры"
   ]
  },
  {
   "cell_type": "code",
   "execution_count": 1,
   "metadata": {
    "collapsed": true
   },
   "outputs": [],
   "source": [
    "def mvs(vector, scalar):\n",
    "    \"\"\"\n",
    "    Умножить вектор на скаляр\n",
    "    \n",
    "    Параметры:\n",
    "    ----------\n",
    "    - vector: list()\n",
    "    \n",
    "    - scalar: float\n",
    "    \"\"\"\n",
    "    vector_copy = vector.copy()\n",
    "    \n",
    "    n = len(vector_copy)\n",
    "    \n",
    "    for i in range(n):\n",
    "        vector_copy[i] *= scalar\n",
    "        \n",
    "    return vector_copy"
   ]
  },
  {
   "cell_type": "code",
   "execution_count": 2,
   "metadata": {},
   "outputs": [
    {
     "data": {
      "text/plain": [
       "[0, -6, 12]"
      ]
     },
     "execution_count": 2,
     "metadata": {},
     "output_type": "execute_result"
    }
   ],
   "source": [
    "### тестируем:\n",
    "mvs([0, 2, -4], -3)"
   ]
  },
  {
   "cell_type": "markdown",
   "metadata": {},
   "source": [
    "---"
   ]
  },
  {
   "cell_type": "code",
   "execution_count": 3,
   "metadata": {
    "collapsed": true
   },
   "outputs": [],
   "source": [
    "def mvv(v1, v2):\n",
    "    \"\"\"\n",
    "    Умножить вектор на вектор\n",
    "    \n",
    "    Параметры:\n",
    "    ----------\n",
    "    - v1: list()\n",
    "    \n",
    "    - v2: list()\n",
    "    \"\"\"\n",
    "    \n",
    "    result = 0\n",
    "    \n",
    "    n1= len(v1)\n",
    "    n2 = len(v2)\n",
    "    \n",
    "    if n1 == n2:\n",
    "        for i in range(n1):\n",
    "            result += v1[i] * v2[i]\n",
    "\n",
    "        return result\n",
    "    else:\n",
    "        print('Размерность не совпадает!')\n",
    "        return None"
   ]
  },
  {
   "cell_type": "code",
   "execution_count": 4,
   "metadata": {},
   "outputs": [
    {
     "data": {
      "text/plain": [
       "10"
      ]
     },
     "execution_count": 4,
     "metadata": {},
     "output_type": "execute_result"
    }
   ],
   "source": [
    "#### тестируем:\n",
    "# тест 1:\n",
    "vector_1 = [1,2,4]\n",
    "vector_2 = [0,-1,3]\n",
    "\n",
    "mvv(vector_1, vector_2)"
   ]
  },
  {
   "cell_type": "code",
   "execution_count": 5,
   "metadata": {},
   "outputs": [
    {
     "name": "stdout",
     "output_type": "stream",
     "text": [
      "Размерность не совпадает!\n"
     ]
    }
   ],
   "source": [
    "# тест 2 (размерности не совпадают, ждем сообщения):\n",
    "vector_1 = [1,2,4]\n",
    "vector_2 = [0,-1,3,9]\n",
    "\n",
    "mvv(vector_1, vector_2)"
   ]
  },
  {
   "cell_type": "markdown",
   "metadata": {},
   "source": [
    "---"
   ]
  },
  {
   "cell_type": "code",
   "execution_count": 6,
   "metadata": {
    "collapsed": true
   },
   "outputs": [],
   "source": [
    "def get_column(matrix, column):\n",
    "    \"\"\"\n",
    "    Вернуть вектор-столбец\n",
    "    \n",
    "    Параметры:\n",
    "    ----------\n",
    "    - matrix: list()\n",
    "    \n",
    "    - column: int\n",
    "    \"\"\"\n",
    "    result = []\n",
    "    \n",
    "    for line in matrix:\n",
    "        result.append(line[column])\n",
    "    \n",
    "    return result"
   ]
  },
  {
   "cell_type": "code",
   "execution_count": 7,
   "metadata": {},
   "outputs": [
    {
     "data": {
      "text/plain": [
       "[0, 2, 2]"
      ]
     },
     "execution_count": 7,
     "metadata": {},
     "output_type": "execute_result"
    }
   ],
   "source": [
    "### тестируем:\n",
    "a = [[ 1, 0, 3], \n",
    "     [ 4, 2, 0], \n",
    "     [-1, 2, 0]]\n",
    "\n",
    "get_column(a, 1)"
   ]
  },
  {
   "cell_type": "markdown",
   "metadata": {},
   "source": [
    "---"
   ]
  },
  {
   "cell_type": "code",
   "execution_count": 8,
   "metadata": {
    "collapsed": true
   },
   "outputs": [],
   "source": [
    "def mmm(m1, m2):\n",
    "    \"\"\"\n",
    "    Умножить матрицу на матрицу\n",
    "    \n",
    "    Параметры:\n",
    "    ----------\n",
    "    - m1: list()\n",
    "    \n",
    "    - m2: list()\n",
    "    \"\"\"\n",
    "    result = []\n",
    "    \n",
    "    l = len(m1)\n",
    "    m = len(m2[0])\n",
    "    \n",
    "    for i in range(l):\n",
    "        result.append([])\n",
    "        for j in range(m):\n",
    "            s = mvv(m1[i], get_column(m2, j))\n",
    "            result[i].append(s)\n",
    "            \n",
    "    return result\n",
    "    "
   ]
  },
  {
   "cell_type": "code",
   "execution_count": 9,
   "metadata": {},
   "outputs": [
    {
     "data": {
      "text/plain": [
       "[[-4, -3, 8], [-4, 12, 22], [1, -3, -3]]"
      ]
     },
     "execution_count": 9,
     "metadata": {},
     "output_type": "execute_result"
    }
   ],
   "source": [
    "### тестируем\n",
    "# тест 1 (умножаем квадратные):\n",
    "\n",
    "a = [[ 1, 0, 3], \n",
    "     [ 4, 2, 0], \n",
    "     [-1, 2, 0]]\n",
    "\n",
    "b = [[-1, 3, 5], \n",
    "     [ 0, 0, 1], \n",
    "     [-1,-2, 1]]\n",
    "\n",
    "mmm(a, b)"
   ]
  },
  {
   "cell_type": "code",
   "execution_count": 10,
   "metadata": {},
   "outputs": [
    {
     "data": {
      "text/plain": [
       "[[-1, 3, 5, -1], [-4, 12, 22, 0], [1, -3, -3, 5]]"
      ]
     },
     "execution_count": 10,
     "metadata": {},
     "output_type": "execute_result"
    }
   ],
   "source": [
    "# тест 2 (умножаем прямоугольные):\n",
    "\n",
    "d = [[ 1, 0], \n",
    "     [ 4, 2], \n",
    "     [-1, 2]]\n",
    "\n",
    "c = [[-1, 3, 5,-1], \n",
    "     [ 0, 0, 1, 2]]\n",
    "\n",
    "mmm(d, c)"
   ]
  }
 ],
 "metadata": {
  "kernelspec": {
   "display_name": "Python 3",
   "language": "python",
   "name": "python3"
  },
  "language_info": {
   "codemirror_mode": {
    "name": "ipython",
    "version": 3
   },
   "file_extension": ".py",
   "mimetype": "text/x-python",
   "name": "python",
   "nbconvert_exporter": "python",
   "pygments_lexer": "ipython3",
   "version": "3.6.3"
  },
  "latex_envs": {
   "LaTeX_envs_menu_present": true,
   "autocomplete": true,
   "bibliofile": "biblio.bib",
   "cite_by": "apalike",
   "current_citInitial": 1,
   "eqLabelWithNumbers": true,
   "eqNumInitial": 1,
   "hotkeys": {
    "equation": "Ctrl-E",
    "itemize": "Ctrl-I"
   },
   "labels_anchors": false,
   "latex_user_defs": false,
   "report_style_numbering": false,
   "user_envs_cfg": false
  }
 },
 "nbformat": 4,
 "nbformat_minor": 2
}
