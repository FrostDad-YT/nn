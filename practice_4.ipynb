{
 "cells": [
  {
   "cell_type": "markdown",
   "metadata": {},
   "source": [
    "# Numpy"
   ]
  },
  {
   "cell_type": "markdown",
   "metadata": {},
   "source": [
    "Numpy [numerical python] - это модуль языка питон. То есть это файл с кодом на языке Python. Этот файл реализовали нашими коллеги-программы, которые решили поделиться своими наработками. Блягодаря этому, мы можем очень удобным образом работать с векторами и матрицами, умножать их друг на друга и многое другое.\n",
    "<br><br>\n",
    "Чтобы импортировать Numpy-модуль в наш код, следует исполнить следующую команду:"
   ]
  },
  {
   "cell_type": "code",
   "execution_count": 1,
   "metadata": {
    "collapsed": true
   },
   "outputs": [],
   "source": [
    "import numpy as np"
   ]
  },
  {
   "cell_type": "markdown",
   "metadata": {},
   "source": [
    "Строка **import numpy** импортирует модуль, доступ к функциям которого мы будем иметь через слово **np** (as - переводится \"как\", то есть мы будем обращаться к модулю numpy через сокращение np). Например, в Numpy-модуле реализованы функции max(), и min(). Но чтобы вызвать именно их, а не те, что уже реализованы в Python, следует исполнить: np.max(), np.min(). То есть через сокращение модуля и точку мы можем вызывать реализованные в нем функции."
   ]
  },
  {
   "cell_type": "markdown",
   "metadata": {},
   "source": [
    "#### Numpy array"
   ]
  },
  {
   "cell_type": "code",
   "execution_count": 2,
   "metadata": {},
   "outputs": [],
   "source": [
    "# чтобы создать numpy вектор, следует воспользоваться функцией np.array()\n",
    "a = np.array([1,2,3,4,5,6,7,8,9])\n",
    "b = np.array([-1,0,1,3,-1,9,11,3,1])"
   ]
  },
  {
   "cell_type": "code",
   "execution_count": 3,
   "metadata": {},
   "outputs": [
    {
     "name": "stdout",
     "output_type": "stream",
     "text": [
      "173\n",
      "173\n"
     ]
    }
   ],
   "source": [
    "# скалярное произведение\n",
    "# способ 1:\n",
    "print(a.dot(b))\n",
    "\n",
    "# способ 2:\n",
    "print(np.dot(a, b))"
   ]
  },
  {
   "cell_type": "code",
   "execution_count": 4,
   "metadata": {},
   "outputs": [
    {
     "data": {
      "text/plain": [
       "array([ 7, 14, 21, 28, 35, 42, 49, 56, 63])"
      ]
     },
     "execution_count": 4,
     "metadata": {},
     "output_type": "execute_result"
    }
   ],
   "source": [
    "# умножение на скаляр\n",
    "a * 7"
   ]
  },
  {
   "cell_type": "code",
   "execution_count": 5,
   "metadata": {},
   "outputs": [
    {
     "data": {
      "text/plain": [
       "array([1, 2, 3, 4, 5, 6, 7, 8, 9])"
      ]
     },
     "execution_count": 5,
     "metadata": {},
     "output_type": "execute_result"
    }
   ],
   "source": [
    "# распечатаем массив\n",
    "a"
   ]
  },
  {
   "cell_type": "code",
   "execution_count": 6,
   "metadata": {},
   "outputs": [
    {
     "data": {
      "text/plain": [
       "array([2, 4, 6, 8])"
      ]
     },
     "execution_count": 6,
     "metadata": {},
     "output_type": "execute_result"
    }
   ],
   "source": [
    "# индексация по массиву\n",
    "# можем выводить \"срезы\" вектора\n",
    "# [с какого : по какой (не включительно) : с каким шагом]\n",
    "a[1:9:2]"
   ]
  },
  {
   "cell_type": "markdown",
   "metadata": {},
   "source": [
    "#### Матрицы"
   ]
  },
  {
   "cell_type": "code",
   "execution_count": 7,
   "metadata": {
    "collapsed": true
   },
   "outputs": [],
   "source": [
    "# numpy матрицы\n",
    "# можем также создавать numpy матрицы, только \n",
    "# потребуется передать двумерный массив в функцию np.array()\n",
    "m1 = np.array([[ 1, 2, 3, 4], \n",
    "               [-1, 5, 6, 8], \n",
    "               [ 5, 2, 3, 7], \n",
    "               [ 0, 5,-1, 7]])\n",
    "\n",
    "# numpy вектор (массив)\n",
    "v1 = np.array([-1, 4, 3, 0])"
   ]
  },
  {
   "cell_type": "code",
   "execution_count": 8,
   "metadata": {},
   "outputs": [
    {
     "data": {
      "text/plain": [
       "array([16, 39, 12, 17])"
      ]
     },
     "execution_count": 8,
     "metadata": {},
     "output_type": "execute_result"
    }
   ],
   "source": [
    "# умножим матрицу на вектор\n",
    "m1.dot(v1)"
   ]
  },
  {
   "cell_type": "code",
   "execution_count": 9,
   "metadata": {},
   "outputs": [
    {
     "data": {
      "text/plain": [
       "array([[5, 6],\n",
       "       [2, 3]])"
      ]
     },
     "execution_count": 9,
     "metadata": {},
     "output_type": "execute_result"
    }
   ],
   "source": [
    "# сложная индексация по матрице\n",
    "# до запятой указываем какие вырезать столбцы,\n",
    "# после запятой строки \n",
    "# [от:до(не включительно), от:до(не включительно)]\n",
    "m1[1:3, 1:3]"
   ]
  },
  {
   "cell_type": "code",
   "execution_count": 10,
   "metadata": {},
   "outputs": [
    {
     "data": {
      "text/plain": [
       "array([[ 1, -1,  5,  0],\n",
       "       [ 2,  5,  2,  5],\n",
       "       [ 3,  6,  3, -1],\n",
       "       [ 4,  8,  7,  7]])"
      ]
     },
     "execution_count": 10,
     "metadata": {},
     "output_type": "execute_result"
    }
   ],
   "source": [
    "# транспонирование матрицы (строки превратить в столбцы)\n",
    "m1.T"
   ]
  },
  {
   "cell_type": "code",
   "execution_count": 11,
   "metadata": {},
   "outputs": [
    {
     "data": {
      "text/plain": [
       "(4, 4)"
      ]
     },
     "execution_count": 11,
     "metadata": {},
     "output_type": "execute_result"
    }
   ],
   "source": [
    "# узнать размерность матрицы (строки, столбцы)\n",
    "# можно при помощи свойства .shape\n",
    "# круглые скобки не нужны, так как это свойство! а не метод (функция)!\n",
    "m1.shape"
   ]
  },
  {
   "cell_type": "code",
   "execution_count": 12,
   "metadata": {},
   "outputs": [
    {
     "data": {
      "text/plain": [
       "array([[ 1,  2],\n",
       "       [ 3,  4],\n",
       "       [-1,  5],\n",
       "       [ 6,  8],\n",
       "       [ 5,  2],\n",
       "       [ 3,  7],\n",
       "       [ 0,  5],\n",
       "       [-1,  7]])"
      ]
     },
     "execution_count": 12,
     "metadata": {},
     "output_type": "execute_result"
    }
   ],
   "source": [
    "# можно изменить размерность матрицы, главное указать такую,\n",
    "# чтобы хватило элементов в матрице.\n",
    "# например, если в матрице 20 элементов, то не получится\n",
    "# изменить размерность на 5 строк и 6 столбцов, так как \n",
    "# для такой матрицы уже понадобится 5*6=30 элементов\n",
    "m1.reshape((8,2))"
   ]
  }
 ],
 "metadata": {
  "kernelspec": {
   "display_name": "Python 3",
   "language": "python",
   "name": "python3"
  },
  "language_info": {
   "codemirror_mode": {
    "name": "ipython",
    "version": 3
   },
   "file_extension": ".py",
   "mimetype": "text/x-python",
   "name": "python",
   "nbconvert_exporter": "python",
   "pygments_lexer": "ipython3",
   "version": "3.6.3"
  },
  "latex_envs": {
   "LaTeX_envs_menu_present": true,
   "autocomplete": true,
   "bibliofile": "biblio.bib",
   "cite_by": "apalike",
   "current_citInitial": 1,
   "eqLabelWithNumbers": true,
   "eqNumInitial": 1,
   "hotkeys": {
    "equation": "Ctrl-E",
    "itemize": "Ctrl-I"
   },
   "labels_anchors": false,
   "latex_user_defs": false,
   "report_style_numbering": false,
   "user_envs_cfg": false
  }
 },
 "nbformat": 4,
 "nbformat_minor": 2
}
