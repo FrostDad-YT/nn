{
 "cells": [
  {
   "cell_type": "code",
   "execution_count": 2,
   "metadata": {
    "collapsed": true
   },
   "outputs": [],
   "source": [
    "import torch\n",
    "from source.network import NNClassifier\n",
    "from source.helpme import show_history, show_image, load_fmnist, load_mnist, calculate_pad\n",
    "from sklearn.datasets import load_digits\n",
    "import numpy as np\n",
    "import torchvision\n",
    "import os\n",
    "from torchvision import transforms\n",
    "import torchsummary"
   ]
  },
  {
   "cell_type": "markdown",
   "metadata": {},
   "source": [
    "# Fully connected neural network (2 layers)"
   ]
  },
  {
   "cell_type": "code",
   "execution_count": 4,
   "metadata": {
    "collapsed": true
   },
   "outputs": [],
   "source": [
    "X, y = load_fmnist()"
   ]
  },
  {
   "cell_type": "code",
   "execution_count": 5,
   "metadata": {
    "collapsed": true
   },
   "outputs": [],
   "source": [
    "class Softmax_layer(torch.nn.Module):\n",
    "    def __init__(self):\n",
    "        super().__init__()\n",
    "    \n",
    "    def forward(self, x):\n",
    "        e = torch.exp(x - x.max(1, True)[0] )\n",
    "        summ = e.sum(1, True)[0]\n",
    "        return e / summ"
   ]
  },
  {
   "cell_type": "code",
   "execution_count": 68,
   "metadata": {
    "collapsed": true
   },
   "outputs": [],
   "source": [
    "two_layer_net = torch.nn.Sequential(torch.nn.Linear(784, 128),\n",
    "                                    torch.nn.ReLU(),\n",
    "                                    \n",
    "                                    torch.nn.BatchNorm1d(128),\n",
    "                                    \n",
    "                                    torch.nn.Linear(128, 256),\n",
    "                                    torch.nn.ReLU(),\n",
    "                                    \n",
    "                                    torch.nn.BatchNorm1d(256),\n",
    "                                    \n",
    "                                    torch.nn.Linear(256, 512),\n",
    "                                    torch.nn.ReLU(),\n",
    "                                    \n",
    "                                    torch.nn.BatchNorm1d(512),\n",
    "    \n",
    "                                    torch.nn.Linear(512, 10),\n",
    "                                    Softmax_layer())"
   ]
  },
  {
   "cell_type": "code",
   "execution_count": 62,
   "metadata": {
    "collapsed": true
   },
   "outputs": [],
   "source": [
    "two_layer_net = torch.nn.Sequential(torch.nn.Linear(784, 128),\n",
    "                                    torch.nn.ReLU(),\n",
    "                                    \n",
    "                                    \n",
    "                                    torch.nn.Linear(128, 256),\n",
    "                                    torch.nn.ReLU(),\n",
    "                                    \n",
    "                                    \n",
    "                                    torch.nn.Linear(256, 512),\n",
    "                                    torch.nn.ReLU(),\n",
    "                                    \n",
    "    \n",
    "                                    torch.nn.Linear(512, 10),\n",
    "                                    Softmax_layer())"
   ]
  },
  {
   "cell_type": "code",
   "execution_count": 32,
   "metadata": {
    "collapsed": true
   },
   "outputs": [],
   "source": [
    "three_layer_net = torch.nn.Sequential(torch.nn.Linear(784, 256),\n",
    "                                      torch.nn.ReLU(),\n",
    "                                    \n",
    "                                    \n",
    "                                      torch.nn.Linear(256, 512),\n",
    "                                      torch.nn.ReLU(),\n",
    "                                    \n",
    "                                      torch.nn.Linear(512, 10),\n",
    "                                      Softmax_layer())"
   ]
  },
  {
   "cell_type": "markdown",
   "metadata": {},
   "source": [
    "<br>\n",
    "Используем класс NNClassifier, который имеет следующие методы:\n",
    "- **fit(X, y, epochs, batch_size, valid_data)** - обучает нейросеть\n",
    "- **predict_proba(X, batch_size)** - предсказывает вероятности\n",
    "- **predict(X, batch_size)** - предсказывает к какому классу относится каждый объект\n",
    "- **evaluate_score(X, y, batch_size)** - возвращает долю угаданных объектов\n",
    "- **loss(X, y, batch_size)** - рассчитывает ошибку\n",
    "<br>\n",
    "<br>\n",
    "<br>\n",
    "*batch_size* - это количество данных, которые нейросеть обрабатывает за один раз<br>\n",
    "*valid_data* - это данные для валидации работы нейросети"
   ]
  },
  {
   "cell_type": "code",
   "execution_count": 69,
   "metadata": {
    "collapsed": true
   },
   "outputs": [],
   "source": [
    "# создадим объект класса NNClassifier, передав архитектуру нейросети и learning rate (шаг обучения)\n",
    "\n",
    "model = NNClassifier(two_layer_net, lr=1e-3, device='cpu')"
   ]
  },
  {
   "cell_type": "code",
   "execution_count": 70,
   "metadata": {},
   "outputs": [],
   "source": [
    "X = X.reshape((len(X), -1))"
   ]
  },
  {
   "cell_type": "code",
   "execution_count": 71,
   "metadata": {},
   "outputs": [
    {
     "data": {
      "text/plain": [
       "(70000, 784)"
      ]
     },
     "execution_count": 71,
     "metadata": {},
     "output_type": "execute_result"
    }
   ],
   "source": [
    "X.shape"
   ]
  },
  {
   "cell_type": "code",
   "execution_count": 74,
   "metadata": {},
   "outputs": [
    {
     "data": {
      "application/vnd.jupyter.widget-view+json": {
       "model_id": "0d7b8ce98df144988aed9f5d38256eda",
       "version_major": 2,
       "version_minor": 0
      },
      "text/plain": [
       "A Jupyter Widget"
      ]
     },
     "metadata": {},
     "output_type": "display_data"
    },
    {
     "name": "stdout",
     "output_type": "stream",
     "text": [
      "\n"
     ]
    }
   ],
   "source": [
    "# обучим нейросеть\n",
    "X_train = X[:1200]\n",
    "y_train = y[:1200]\n",
    "\n",
    "X_valid = X[1200:1500]\n",
    "y_valid = y[1200:1500]\n",
    "\n",
    "X_test = X[1500:2500]\n",
    "y_test = y[1500:2500]\n",
    "\n",
    "model.fit(X_train, y_train, epochs=50, batch_size=256, \n",
    "          valid_data=(X_valid, y_valid))"
   ]
  },
  {
   "cell_type": "code",
   "execution_count": 75,
   "metadata": {},
   "outputs": [
    {
     "data": {
      "image/png": "[encoded data removed]",
      "text/plain": [
       "<Figure size 432x288 with 1 Axes>"
      ]
     },
     "metadata": {},
     "output_type": "display_data"
    }
   ],
   "source": [
    "# посмотрим на графики ошибок на тренировочной и валидационной частях\n",
    "\n",
    "show_history(model.train_history, model.valid_history)"
   ]
  },
  {
   "cell_type": "code",
   "execution_count": 76,
   "metadata": {},
   "outputs": [
    {
     "data": {
      "text/plain": [
       "0.807"
      ]
     },
     "execution_count": 76,
     "metadata": {},
     "output_type": "execute_result"
    }
   ],
   "source": [
    "model.evaluate_score(X_test, y_test)"
   ]
  },
  {
   "cell_type": "code",
   "execution_count": null,
   "metadata": {
    "collapsed": true
   },
   "outputs": [],
   "source": []
  }
 ],
 "metadata": {
  "kernelspec": {
   "display_name": "Python 3",
   "language": "python",
   "name": "python3"
  },
  "language_info": {
   "codemirror_mode": {
    "name": "ipython",
    "version": 3
   },
   "file_extension": ".py",
   "mimetype": "text/x-python",
   "name": "python",
   "nbconvert_exporter": "python",
   "pygments_lexer": "ipython3",
   "version": "3.6.3"
  },
  "latex_envs": {
   "LaTeX_envs_menu_present": true,
   "autocomplete": true,
   "bibliofile": "biblio.bib",
   "cite_by": "apalike",
   "current_citInitial": 1,
   "eqLabelWithNumbers": true,
   "eqNumInitial": 1,
   "hotkeys": {
    "equation": "Ctrl-E",
    "itemize": "Ctrl-I"
   },
   "labels_anchors": false,
   "latex_user_defs": false,
   "report_style_numbering": false,
   "user_envs_cfg": false
  }
 },
 "nbformat": 4,
 "nbformat_minor": 2
}
